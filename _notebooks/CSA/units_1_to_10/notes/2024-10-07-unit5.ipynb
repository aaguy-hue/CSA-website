{
 "cells": [
  {
   "cell_type": "raw",
   "metadata": {
    "vscode": {
     "languageId": "raw"
    }
   },
   "source": [
    "---\n",
    "layout: post\n",
    "title: Unit 5\n",
    "description: My notes on unit 5.\n",
    "toc: true\n",
    "permalink: /csa/notes/unit5\n",
    "menu: nav/CSA_Units/notes.html\n",
    "comments: true\n",
    "author: Aadit Mathur\n",
    "---"
   ]
  },
  {
   "cell_type": "markdown",
   "metadata": {},
   "source": [
    "# Classes"
   ]
  }
 ],
 "metadata": {
  "language_info": {
   "name": "python"
  }
 },
 "nbformat": 4,
 "nbformat_minor": 2
}
