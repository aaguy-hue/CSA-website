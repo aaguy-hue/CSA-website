{
 "cells": [
  {
   "cell_type": "raw",
   "metadata": {
    "vscode": {
     "languageId": "raw"
    }
   },
   "source": [
    "---\n",
    "layout: post\n",
    "title: Unit 4\n",
    "description: My notes on unit 4.\n",
    "toc: true\n",
    "permalink: /csa/notes/unit4\n",
    "menu: nav/CSA_Units/notes.html\n",
    "comments: true\n",
    "author: Aadit Mathur\n",
    "---"
   ]
  },
  {
   "cell_type": "markdown",
   "metadata": {},
   "source": [
    "# Iteration\n",
    "\n",
    "Java has the standard `for` and `while` loops.\n",
    "\n",
    "It also has two interesting variants of these.\n",
    "**for-each loops** iterate through elements in a list/array\n",
    "**do-while loops** they function as a while loop except they run the code at least once"
   ]
  }
 ],
 "metadata": {
  "language_info": {
   "name": "python"
  }
 },
 "nbformat": 4,
 "nbformat_minor": 2
}
