{
 "cells": [
  {
   "cell_type": "raw",
   "metadata": {
    "vscode": {
     "languageId": "raw"
    }
   },
   "source": [
    "---\n",
    "layout: post\n",
    "title: Unit 7\n",
    "description: My notes on unit 7.\n",
    "toc: true\n",
    "permalink: /csa/notes/unit7\n",
    "menu: nav/CSA_Units/notes.html\n",
    "comments: true\n",
    "author: Aadit Mathur\n",
    "---"
   ]
  },
  {
   "cell_type": "markdown",
   "metadata": {},
   "source": [
    "# ArrayLists"
   ]
  }
 ],
 "metadata": {
  "language_info": {
   "name": "python"
  }
 },
 "nbformat": 4,
 "nbformat_minor": 2
}
