{
 "cells": [
  {
   "cell_type": "raw",
   "metadata": {
    "vscode": {
     "languageId": "raw"
    }
   },
   "source": [
    "---\n",
    "layout: post\n",
    "title: Unit 8\n",
    "description: My notes on unit 8.\n",
    "toc: true\n",
    "permalink: /csa/notes/unit8\n",
    "menu: nav/CSA_Units/notes.html\n",
    "comments: true\n",
    "author: Aadit Mathur\n",
    "---"
   ]
  },
  {
   "cell_type": "markdown",
   "metadata": {},
   "source": [
    "## 2D Arrays\n",
    "\n",
    "Arrays inside of arrays aka matrices\n",
    "\n",
    "When indexing, use row then column.\n",
    "\n",
    "They are often used to store image data.\n",
    "\n",
    "### Traversal\n",
    "Have a loop nested inside of another. Outer loop goes through the rows and the inner goes through the columns, or vice verca.\n",
    "\n",
    "You can use regular for loops or foreach loops, it doesn't really matter.\n",
    "\n",
    "### Other Notes\n",
    "For global sorting, make sure to first flatten the array then later to reshape it back."
   ]
  }
 ],
 "metadata": {
  "language_info": {
   "name": "python"
  }
 },
 "nbformat": 4,
 "nbformat_minor": 2
}
