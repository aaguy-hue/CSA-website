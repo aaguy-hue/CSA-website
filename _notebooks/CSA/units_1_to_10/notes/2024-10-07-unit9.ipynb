{
 "cells": [
  {
   "cell_type": "raw",
   "metadata": {
    "vscode": {
     "languageId": "raw"
    }
   },
   "source": [
    "---\n",
    "layout: post\n",
    "title: Unit 9\n",
    "description: My notes on unit 9.\n",
    "toc: true\n",
    "permalink: /csa/notes/unit9\n",
    "menu: nav/CSA_Units/notes.html\n",
    "comments: true\n",
    "author: Aadit Mathur\n",
    "---"
   ]
  },
  {
   "cell_type": "markdown",
   "metadata": {},
   "source": [
    "## Polymorphism\n",
    "\n",
    "### Keywords\n",
    "- `super` keyword: it's like the `this` keyword, except it accesses the superclass instead of the current class\n",
    "- `@Override` annotation: specifies that a method overrides a method in the superclass (technically not needed but good for readability)\n",
    "  - `final` methods can't be overridden\n",
    "\n",
    "\n",
    "### Vocab\n",
    "- **Superclass / Parent Class**: Class that has common fields and methods shared by subclasses\n",
    "- **Subclass / Child Class**: Class that extends functionality of the superclass (does not inherit constructors)\n",
    "- **Polymorphism**: The ability to treat objects of different classes through a common interface, allowing for method overriding\n",
    "- Static vs dynamic types\n",
    "  - **Static types**: The type of the variable you declare at compile time (when you say `Animal bozo`, Animal is the static type)\n",
    "  - **Dynamic types**: The type of the variable at runtime (when you say `= new Monkey()`, monkey is the dynamic type)\n",
    "\n",
    "#### Polymorphism/polymorphic/etc\n",
    "- **Polymorphic** reference variables can refer to objects of different classes in the code\n",
    "- **Polymorphic** methods are overriden in at least one subclass\n",
    "- **Polymorphism**: act of executing overriden non-static method at runtime based on the actual object type"
   ]
  }
 ],
 "metadata": {
  "language_info": {
   "name": "python"
  }
 },
 "nbformat": 4,
 "nbformat_minor": 2
}
