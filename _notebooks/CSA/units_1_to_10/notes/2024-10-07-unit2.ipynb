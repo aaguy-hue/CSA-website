{
 "cells": [
  {
   "cell_type": "raw",
   "metadata": {
    "vscode": {
     "languageId": "raw"
    }
   },
   "source": [
    "---\n",
    "layout: post\n",
    "title: Unit 2\n",
    "description: My notes on unit 2.\n",
    "toc: true\n",
    "permalink: /csa/notes/unit2\n",
    "menu: nav/CSA_Units/notes.html\n",
    "comments: true\n",
    "author: Aadit Mathur\n",
    "---"
   ]
  },
  {
   "cell_type": "markdown",
   "metadata": {},
   "source": [
    "# Using Objects\n",
    "Classes are blueprints, Objects are what you create using those blueprints.\n",
    "\n",
    "Methods are functions attached to the class/object\n",
    "\n",
    "To access math functions, you can use the `Math` class\n",
    "\n",
    "There are wrapper classes around the primitive types which are reference objects"
   ]
  },
  {
   "cell_type": "markdown",
   "metadata": {},
   "source": [
    "<style>\n",
    "    body { font-family: Arial, sans-serif; max-width: 800px; margin: 0 auto; padding: 20px; }\n",
    "    h1, h2 { color: #333; }\n",
    "    .blueprint { background-color: #ffffff; border: 2px dashed #666; padding: 10px; margin-bottom: 20px; border-radius: 5px; }\n",
    "    .code { font-family: monospace; white-space: pre; background-color: #f8f8f8; padding: 10px; border-radius: 5px; }\n",
    "    button { background-color: #4CAF50; border: none; color: white; padding: 15px 32px; text-align: center; text-decoration: none; display: inline-block; font-size: 16px; margin: 4px 2px; cursor: pointer; border-radius: 5px; }\n",
    "    #objectContainer { display: flex; flex-wrap: wrap; gap: 20px; margin-top: 20px; }\n",
    "    .object { width: 150px; display: flex; flex-direction: column; align-items: center; background-color: #ffffff; padding: 10px; border-radius: 5px; box-shadow: 0 2px 5px rgba(0,0,0,0.1); }\n",
    "    .car-svg { width: 100px; height: 60px; }\n",
    "    .object-id { font-size: 0.8em; color: #666; margin-top: 5px; }\n",
    "    .object-color { font-weight: bold; margin-top: 5px; }\n",
    "</style>\n",
    "\n",
    "<div class=\"blueprint\">\n",
    "    <h2>Class (Blueprint)</h2>\n",
    "    <div class=\"code\">\n",
    "        public class Car {\n",
    "            private String color;\n",
    "\n",
    "            public Car(String color) {\n",
    "                this.color = color;\n",
    "            }\n",
    "\n",
    "            public String getColor() {\n",
    "                return color;\n",
    "            }\n",
    "        }\n",
    "    </div>\n",
    "</div>\n",
    "\n",
    "<button onclick=\"createObject()\">Create New Car Object</button>\n",
    "\n",
    "<div id=\"objectContainer\"></div>\n",
    "\n",
    "<script>\n",
    "    let objectCount = 0;\n",
    "    const colors = ['#8B4513', '#228B22', '#4682B4', '#800080', '#008080'];\n",
    "    const colorNames = ['Brown', 'Green', 'Blue', 'Purple', 'Teal'];\n",
    "\n",
    "    function createObject() {\n",
    "        objectCount++;\n",
    "        const container = document.getElementById('objectContainer');\n",
    "        const objectElement = document.createElement('div');\n",
    "        objectElement.className = 'object';\n",
    "        const colorIndex = Math.floor(Math.random() * colors.length);\n",
    "        const color = colors[colorIndex];\n",
    "        \n",
    "        const svg = `\n",
    "        <svg class=\"car-svg\" viewBox=\"0 0 100 60\">\n",
    "            <rect x=\"10\" y=\"20\" width=\"80\" height=\"30\" fill=\"${color}\" />\n",
    "            <rect x=\"75\" y=\"10\" width=\"20\" height=\"20\" fill=\"${color}\" />\n",
    "            <circle cx=\"25\" cy=\"50\" r=\"10\" fill=\"#333\" />\n",
    "            <circle cx=\"75\" cy=\"50\" r=\"10\" fill=\"#333\" />\n",
    "        </svg>`;\n",
    "        \n",
    "        objectElement.innerHTML = svg;\n",
    "        \n",
    "        const idElement = document.createElement('div');\n",
    "        idElement.className = 'object-id';\n",
    "        idElement.textContent = `Car@${Math.floor(Math.random() * 1000000).toString(16)}`;\n",
    "        \n",
    "        const colorElement = document.createElement('div');\n",
    "        colorElement.className = 'object-color';\n",
    "        colorElement.textContent = colorNames[colorIndex];\n",
    "        \n",
    "        objectElement.appendChild(idElement);\n",
    "        objectElement.appendChild(colorElement);\n",
    "        container.appendChild(objectElement);\n",
    "    }\n",
    "</script>"
   ]
  }
 ],
 "metadata": {
  "language_info": {
   "name": "python"
  }
 },
 "nbformat": 4,
 "nbformat_minor": 2
}
