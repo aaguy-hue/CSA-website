{
 "cells": [
  {
   "cell_type": "raw",
   "metadata": {
    "vscode": {
     "languageId": "raw"
    }
   },
   "source": [
    "---\n",
    "layout: post\n",
    "comments: true\n",
    "title: Unit 3 Boolean Expressions - 3.1\n",
    "description: Unit 3 Team Teach\n",
    "categories: [AP CSA]\n",
    "menu: nav/CSA_Units/csa_unit3_p1.html\n",
    "permalink: /csa/unit3-p1/unit3-1\n",
    "author: Alisha Hussain, Anika Bhatnagar, Kayden Le, Sharon Kodali\n",
    "---"
   ]
  },
  {
   "cell_type": "markdown",
   "metadata": {},
   "source": [
    "# 3.1 Boolean Expressions\n",
    "\n",
    "<a id=\"boolean-expressions\"></a>\n",
    "\n",
    "## Java's relational operators\n",
    "\n",
    "- equal to: ==\n",
    "- not equal to: !=\n",
    "- less than: <\n",
    "- greater than: >\n",
    "- less than or equal to: <=\n",
    "- greater than or equal to >="
   ]
  },
  {
   "cell_type": "markdown",
   "metadata": {},
   "source": [
    "<b>Hack!</b>\n",
    "\n",
    "```\n",
    "int myAge = 15;\n",
    "int otherAge = 45; \n",
    "```\n",
    "using these integers, determine weather the following statements are True or False\n",
    "\n",
    "<img width=\"785\" alt=\"Screenshot 2024-09-15 at 10 00 54 PM\" src=\"https://github.com/user-attachments/assets/1f4ec53e-fd9a-4f49-9546-a4945b8a207c\">\n",
    "\n",
    "#### Hack 1 answers:\n",
    "1. true\n",
    "2. true\n",
    "3. true\n",
    "4. false\n",
    "5. false\n",
    "6. true\n",
    "\n",
    "## Strings"
   ]
  },
  {
   "cell_type": "markdown",
   "metadata": {},
   "source": [
    "## popcorn hack \n",
    "whats wrong with this code? (below)"
   ]
  },
  {
   "cell_type": "code",
   "execution_count": 7,
   "metadata": {
    "vscode": {
     "languageId": "java"
    }
   },
   "outputs": [
    {
     "data": {
      "text/plain": [
       "true"
      ]
     },
     "execution_count": 7,
     "metadata": {},
     "output_type": "execute_result"
    }
   ],
   "source": [
    "// PROBLEM: Before I changed it, Alisha was not in quotes\n",
    "String myName = \"Alisha\";\n",
    "\n",
    "// PROBLEM: Anika and Alisha weren't in quotes\n",
    "myName != \"Anika\";\n",
    "myName == \"Alisha\";"
   ]
  },
  {
   "cell_type": "markdown",
   "metadata": {},
   "source": [
    "comparison of string objects should be done using String methods, NOT integer methods. \n",
    "\n",
    "- `.equals()`\n",
    "- `.compareTo()`"
   ]
  },
  {
   "cell_type": "code",
   "execution_count": 8,
   "metadata": {
    "vscode": {
     "languageId": "java"
    }
   },
   "outputs": [
    {
     "name": "stdout",
     "output_type": "stream",
     "text": [
      "True\n"
     ]
    }
   ],
   "source": [
    "String myName = \"Alisha\";\n",
    "boolean areNamesEqual = myName.equals(\"Alisha\");  \n",
    "\n",
    "if (areNamesEqual) {\n",
    "    System.out.println(\"True\");\n",
    "} else {\n",
    "    System.out.println(\"False\");\n",
    "}\n"
   ]
  },
  {
   "cell_type": "markdown",
   "metadata": {},
   "source": [
    "### Homework Question\n",
    "<img width=\"693\" alt=\"Screenshot 2024-09-16 at 8 05 24 AM\" src=\"https://github.com/user-attachments/assets/1fe21854-ca17-4cfd-9e9d-14a92e6e6205\">\n",
    "\n",
    "What is the precondition for num?"
   ]
  },
  {
   "cell_type": "code",
   "execution_count": 45,
   "metadata": {
    "vscode": {
     "languageId": "java"
    }
   },
   "outputs": [
    {
     "name": "stdout",
     "output_type": "stream",
     "text": [
      "8\n"
     ]
    },
    {
     "data": {
      "text/plain": [
       "false"
      ]
     },
     "execution_count": 45,
     "metadata": {},
     "output_type": "execute_result"
    }
   ],
   "source": [
    "public class CheckDigit {\n",
    "    /**\n",
    "     * Goes above and byeond by actually counting the digits rather than just checking\n",
    "     * if (num >= 0 && num <= 999999)\n",
    "     */\n",
    "    public static boolean preCondition(int num) {\n",
    "        if (num < 0) { return false; }\n",
    "\n",
    "        int digits = 0;\n",
    "        while (true) {\n",
    "            if (num / 10 >= 1) {\n",
    "                digits++;\n",
    "                num = num/10;\n",
    "            } else {\n",
    "                digits++;\n",
    "                break;\n",
    "            }\n",
    "        }\n",
    "        return digits >= 1 && digits <= 6;\n",
    "    }\n",
    "}\n",
    "CheckDigit.preCondition((int) 12345678);"
   ]
  }
 ],
 "metadata": {
  "kernelspec": {
   "display_name": "java (IJava/j!)",
   "language": "java",
   "name": "jbang-ijava"
  },
  "language_info": {
   "codemirror_mode": "java",
   "file_extension": ".jshell",
   "mimetype": "text/x-java-source",
   "name": "Java",
   "pygments_lexer": "java",
   "version": "17.0.12+1-b1087.25"
  }
 },
 "nbformat": 4,
 "nbformat_minor": 2
}
