{
 "cells": [
  {
   "cell_type": "raw",
   "metadata": {
    "vscode": {
     "languageId": "raw"
    }
   },
   "source": [
    "---\n",
    "layout: post\n",
    "title: Accessory Methods\n",
    "description: Team Teach\n",
    "toc: True\n",
    "permalink: access_methods\n",
    "---"
   ]
  },
  {
   "cell_type": "markdown",
   "metadata": {},
   "source": [
    "## What is an Accessory Method?\n",
    "\n",
    "An accessor method, also known as getter methods allows other objects to obtain the value of instance variables or **static** variables.\n",
    "\n",
    "## Purpose of Accessor Methods\n",
    "- Allows safe access to instance variables\n",
    "- Accessor Methods keep data access private and secure\n",
    "- If you need to access instance variables form a different class, accessor methods are necessary"
   ]
  },
  {
   "cell_type": "markdown",
   "metadata": {},
   "source": [
    "## Lets Make Our Own Accessor Methods"
   ]
  },
  {
   "cell_type": "code",
   "execution_count": 1,
   "metadata": {
    "vscode": {
     "languageId": "java"
    }
   },
   "outputs": [
    {
     "name": "stdout",
     "output_type": "stream",
     "text": [
      "Kevin\n",
      "4.1\n",
      "Sprout-Cut\n",
      "2\n"
     ]
    }
   ],
   "source": [
    "public class Minion\n",
    "{\n",
    "    // Start by defining instance variables that you'll want to access later via the accessor methods\n",
    "    private double height;\n",
    "    private String name;\n",
    "    private String hair;\n",
    "    private int eyes;\n",
    "\n",
    "    // Default Constructor\n",
    "    //String n, int c\n",
    "    public Minion()\n",
    "    {\n",
    "        height = 3.7;\n",
    "        name = \"Bob\";\n",
    "        hair = \"None\";\n",
    "        eyes = 2;\n",
    "    }\n",
    "\n",
    "    // Overloaded Constructor\n",
    "    public Minion(double h, String n, String hr, int e)\n",
    "    {\n",
    "        height = h;\n",
    "        name = n;\n",
    "        hair = hr;\n",
    "        eyes = e;\n",
    "    }\n",
    "    // Accessor Methods!\n",
    "    public double getHeight()\n",
    "    {\n",
    "        return height;\n",
    "    }\n",
    "    public String getName()\n",
    "    {\n",
    "        return name;\n",
    "    }\n",
    "    public String getHair()\n",
    "    {\n",
    "        return hair;\n",
    "    }\n",
    "    public int getEyes()\n",
    "    {\n",
    "        return eyes;\n",
    "    }\n",
    "}\n",
    "public class Main {\n",
    "    public static void main(String[] args){        \n",
    "        // Create minion object Kevin\n",
    "        Minion kevin = new Minion(4.10,\"Kevin\",\"Sprout-Cut\",2);\n",
    "\n",
    "        // Print Kevin's properties\n",
    "        System.out.println(kevin.getName());\n",
    "        System.out.println(kevin.getHeight());\n",
    "        System.out.println(kevin.getHair());\n",
    "        System.out.println(kevin.getEyes());\n",
    "    }\n",
    "}\n",
    "\n",
    "Main.main(null)"
   ]
  },
  {
   "cell_type": "markdown",
   "metadata": {},
   "source": [
    "## Things to keep in mind when creating your Accessor Methods\n",
    "- The accessor method must be public so that you can retrieve your instance variables outside of the class\n",
    "- The return Type must match the type of the instance variable accessed\n",
    "- The naming convention is often getNameOfVariable\n",
    "- There should be **no** parameters in your getter methods"
   ]
  },
  {
   "cell_type": "markdown",
   "metadata": {},
   "source": [
    "![image](https://github.com/user-attachments/assets/17c57fb1-3572-4e6d-b695-914285cc867b)\n"
   ]
  },
  {
   "cell_type": "markdown",
   "metadata": {},
   "source": [
    "## Popcorn Hack\n",
    "Gru is preparing for his big mission to steal the moon, and he needs to assign his minions various tasks based on their skills. Create a Minion class with the attributes ``name, task, and skillLevel.`` Implement some getter accessor methods, and then create a ``Minion`` object to retrieve its values."
   ]
  },
  {
   "cell_type": "code",
   "execution_count": 2,
   "metadata": {
    "vscode": {
     "languageId": "java"
    }
   },
   "outputs": [
    {
     "name": "stdout",
     "output_type": "stream",
     "text": [
      "Kevin, the minion tasked with jumping, is currently level 10, yet he just leveled up!\n",
      "They are now at level 100\n"
     ]
    }
   ],
   "source": [
    "class Minion {\n",
    "    String name;\n",
    "    String task;\n",
    "    int skillLevel;\n",
    "\n",
    "    public Minion(String name, String task, int skillLevel) {\n",
    "        this.name = name;\n",
    "        this.task = task;\n",
    "        this.skillLevel = skillLevel;\n",
    "    }\n",
    "\n",
    "    public String getName() {\n",
    "        return name;\n",
    "    }\n",
    "\n",
    "    public void setName(String name) {\n",
    "        this.name = name;\n",
    "    }\n",
    "\n",
    "    public String getTask() {\n",
    "        return task;\n",
    "    }\n",
    "\n",
    "    public void setTask(String task) {\n",
    "        this.task = task;\n",
    "    }\n",
    "\n",
    "    public int getSkillLevel() {\n",
    "        return skillLevel;\n",
    "    }\n",
    "\n",
    "    public void setSkillLevel(int skillLevel) {\n",
    "        this.skillLevel = skillLevel;\n",
    "    }\n",
    "}\n",
    "\n",
    "Minion kevin = new Minion(\"Kevin\", \"jumping\", 10);\n",
    "System.out.println(kevin.getName() + \", the minion tasked with \" + kevin.getTask() + \", is currently level \" + kevin.getSkillLevel() + \", yet he just leveled up!\");\n",
    "kevin.setSkillLevel(100);\n",
    "System.out.println(\"They are now at level \" + kevin.getSkillLevel());"
   ]
  }
 ],
 "metadata": {
  "kernelspec": {
   "display_name": "java (IJava/j!)",
   "language": "java",
   "name": "jbang-ijava"
  },
  "language_info": {
   "codemirror_mode": "java",
   "file_extension": ".jshell",
   "mimetype": "text/x-java-source",
   "name": "Java",
   "pygments_lexer": "java",
   "version": "17.0.12+1-b1087.25"
  }
 },
 "nbformat": 4,
 "nbformat_minor": 2
}
