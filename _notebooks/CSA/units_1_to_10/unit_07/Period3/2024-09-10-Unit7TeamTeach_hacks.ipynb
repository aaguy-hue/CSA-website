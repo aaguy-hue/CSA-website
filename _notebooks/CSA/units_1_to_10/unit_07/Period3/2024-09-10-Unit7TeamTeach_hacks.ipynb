{
 "cells": [
  {
   "cell_type": "markdown",
   "metadata": {},
   "source": [
    "---\n",
    "layout: post\n",
    "toc: true\n",
    "title: Unit 7 ArrayList P3 \n",
    "description: A Unit of documents that overview Array Lists in Java\n",
    "authors: Drishya, Arnav, Tanuj, Jason\n",
    "categories: [AP CSA]\n",
    "# courses: {'csa': {'week': 6}}\n",
    "type: ccc\n",
    "permalink: /csa/unit7-p3/unit7-6\n",
    "menu: nav/CSA_Units/csa_unit7_p3.html\n",
    "---"
   ]
  },
  {
   "cell_type": "markdown",
   "metadata": {
    "vscode": {
     "languageId": "plaintext"
    }
   },
   "source": [
    "## **ArrayList Coding Activity**\n",
    "\n",
    "### **Objective:**\n",
    "Students will create, manipulate, and sort an `ArrayList` of integers.\n",
    "\n",
    "### **Activity Outline:**\n",
    "\n",
    "1. **Create an ArrayList:**\n",
    "   - **Task:** Create an `ArrayList` of integers and add 5 elements of your choice.\n",
    "   - **Hint:** Use the `ArrayList` class and the `.add()` method to add elements.\n",
    "\n",
    "2. **Modify an Element:**\n",
    "   - **Task:** Change the second element (index 1) of the `ArrayList` to a new value (e.g., 100).\n",
    "   - **Hint:** The `.set()` method allows you to update an element at a specific index.\n",
    "\n",
    "3. **Remove an Element:**\n",
    "   - **Task:** Remove the third element (index 2) from the `ArrayList`.\n",
    "   - **Hint:** Use the `.remove()` method to delete an element by its index.\n",
    "\n",
    "4. **Search for an Element:**\n",
    "   - **Task:** Check if a specific number (e.g., 30) is in the `ArrayList` and print a message based on whether it is found or not.\n",
    "   - **Hint:** The `.contains()` method can be used to check for the presence of an element.\n",
    "\n",
    "5. **Loop Through the ArrayList:**\n",
    "   - **Task:** Use a `for` loop to print each element of the `ArrayList`.\n",
    "   - **Hint:** You can use a traditional `for` loop or an enhanced `for` loop (`for-each`) to iterate through the elements.\n",
    "\n",
    "6. **Sort the ArrayList:**\n",
    "   - **Task:** Sort the `ArrayList` in ascending order.\n",
    "   - **Hint:** Use `Collections.sort()` to sort the `ArrayList`.\n",
    "\n",
    "7. **Print the Sorted ArrayList:**\n",
    "   - **Task:** Print the sorted `ArrayList` to see the updated order of the elements.\n",
    "   - **Hint:** Use `System.out.println()` to print the sorted list.\n"
   ]
  },
  {
   "cell_type": "code",
   "execution_count": 3,
   "metadata": {
    "vscode": {
     "languageId": "java"
    }
   },
   "outputs": [
    {
     "name": "stdout",
     "output_type": "stream",
     "text": [
      "Original ArrayList: [20, 10, 40, 30, 50]\n",
      "After modifying second element: [20, 45678, 40, 30, 50]\n",
      "After removing the third element: [20, 45678, 30, 50]\n",
      "30 is in the ArrayList.\n",
      "Looping through the ArrayList:\n",
      "20\n",
      "45678\n",
      "30\n",
      "50\n",
      "Sorted ArrayList: [20, 30, 50, 45678]\n"
     ]
    }
   ],
   "source": [
    "import java.util.ArrayList;\n",
    "import java.util.Collections;\n",
    "\n",
    "public class HackYum {\n",
    "    public static void main(String[] args) {\n",
    "        ArrayList<Integer> numbers = new ArrayList<>();\n",
    "        numbers.add(20);\n",
    "        numbers.add(10);\n",
    "        numbers.add(40);\n",
    "        numbers.add(30);\n",
    "        numbers.add(50);\n",
    "        \n",
    "        System.out.println(\"Original ArrayList: \" + numbers);\n",
    "\n",
    "        numbers.set(1, 45678);\n",
    "        System.out.println(\"After modifying second element: \" + numbers);\n",
    "\n",
    "        numbers.remove(2);\n",
    "        System.out.println(\"After removing the third element: \" + numbers);\n",
    "\n",
    "        int searchValue = 30;\n",
    "        if (numbers.contains(searchValue)) {\n",
    "            System.out.println(searchValue + \" is in the ArrayList.\");\n",
    "        } else {\n",
    "            System.out.println(searchValue + \" is not in the ArrayList.\");\n",
    "        }\n",
    "\n",
    "        System.out.println(\"Looping through the ArrayList:\");\n",
    "        for (int number : numbers) {\n",
    "            System.out.println(number);\n",
    "        }\n",
    "\n",
    "        Collections.sort(numbers);\n",
    "        System.out.println(\"Sorted ArrayList: \" + numbers);\n",
    "    }\n",
    "}\n",
    "\n",
    "HackYum.main(null);"
   ]
  }
 ],
 "metadata": {
  "kernelspec": {
   "display_name": "java (IJava/j!)",
   "language": "java",
   "name": "jbang-ijava"
  },
  "language_info": {
   "codemirror_mode": "java",
   "file_extension": ".jshell",
   "mimetype": "text/x-java-source",
   "name": "Java",
   "pygments_lexer": "java",
   "version": "17.0.12+1-b1087.25"
  }
 },
 "nbformat": 4,
 "nbformat_minor": 2
}
