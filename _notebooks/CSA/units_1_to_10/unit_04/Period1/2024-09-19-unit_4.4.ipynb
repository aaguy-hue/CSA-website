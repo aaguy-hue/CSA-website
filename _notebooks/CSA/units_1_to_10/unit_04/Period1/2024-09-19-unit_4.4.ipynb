{
 "cells": [
  {
   "cell_type": "markdown",
   "metadata": {},
   "source": [
    "---\n",
    "layout: post\n",
    "type: collab\n",
    "title: Unit 4.4 - Nested Iteration\n",
    "description: Unit 4 Team Teach\n",
    "comments: true\n",
    "permalink: /csa/unit4-p1/unit4-4\n",
    "menu: nav/CSA_Units/csa_unit4_p1.html\n",
    "author: hanlun, saaras, arthur, miheer, eshaan, beijan\n",
    "---"
   ]
  },
  {
   "cell_type": "markdown",
   "metadata": {},
   "source": [
    "## 4.4 Nested Iteration\n",
    "How to iterate through something to get a time complexity of O(n^2)"
   ]
  },
  {
   "cell_type": "code",
   "execution_count": 2,
   "metadata": {
    "vscode": {
     "languageId": "java"
    }
   },
   "outputs": [
    {
     "name": "stdout",
     "output_type": "stream",
     "text": [
      "Outer loop iteration: 1\n",
      "    Inner loop iteration: 1\n",
      "    Inner loop iteration: 2\n",
      "    Inner loop iteration: 3\n",
      "Outer loop iteration: 2\n",
      "    Inner loop iteration: 1\n",
      "    Inner loop iteration: 2\n",
      "    Inner loop iteration: 3\n",
      "Outer loop iteration: 3\n",
      "    Inner loop iteration: 1\n",
      "    Inner loop iteration: 2\n",
      "    Inner loop iteration: 3\n"
     ]
    }
   ],
   "source": [
    "for (int i = 1; i <= 3; i++) { // Outer loop\n",
    "    System.out.println(\"Outer loop iteration: \" + i);\n",
    "    for (int j = 1; j <= 3; j++) { // Inner loop\n",
    "        System.out.println(\"    Inner loop iteration: \" + j);\n",
    "    }\n",
    "}"
   ]
  },
  {
   "cell_type": "markdown",
   "metadata": {},
   "source": [
    "## What is wrong with this code cell(Hack)"
   ]
  },
  {
   "cell_type": "code",
   "execution_count": null,
   "metadata": {
    "vscode": {
     "languageId": "java"
    }
   },
   "outputs": [
    {
     "name": "stdout",
     "output_type": "stream",
     "text": [
      "Enter the number of rows: "
     ]
    }
   ],
   "source": [
    "import java.util.Scanner;\n",
    "Scanner scanner = new Scanner(System.in);\n",
    "System.out.print(\"Enter the number of rows: \");\n",
    "int rows = scanner.nextInt();\n",
    "for (int i = rows; i>=1; i--) { // PROBLEM: I changed it to say i >= 1 instead of i > 1 so that it includes the last row (i=1)\n",
    "    // Print numbers from 1 to i\n",
    "    for (int j = 1; j <= i; j++) {\n",
    "        System.out.print(j + \" \");\n",
    "    }\n",
    "    // Move to next line after each row\n",
    "    System.out.println();\n",
    "}\n",
    "        \n",
    "scanner.close();\n"
   ]
  },
  {
   "cell_type": "markdown",
   "metadata": {},
   "source": [
    "Sample input:\n",
    "5\n",
    "\n",
    "Sample Output\n",
    "1 2 3 4 5\n",
    "1 2 3 4\n",
    "1 2 3\n",
    "1 2\n",
    "1\n"
   ]
  },
  {
   "cell_type": "markdown",
   "metadata": {},
   "source": [
    "<img width=\"540\" alt=\"Screenshot 2024-09-19 at 20 45 04\" src=\"https://github.com/user-attachments/assets/ef76eea5-ffa1-432b-9ca0-95c1b9fd002d\">\n"
   ]
  },
  {
   "cell_type": "markdown",
   "metadata": {},
   "source": [
    "### Answer here: 5*4=20, Answer is B\n"
   ]
  }
 ],
 "metadata": {
  "kernelspec": {
   "display_name": "java (IJava/j!)",
   "language": "java",
   "name": "jbang-ijava"
  },
  "language_info": {
   "codemirror_mode": "java",
   "file_extension": ".jshell",
   "mimetype": "text/x-java-source",
   "name": "Java",
   "pygments_lexer": "java",
   "version": "17.0.12+1-b1087.25"
  }
 },
 "nbformat": 4,
 "nbformat_minor": 2
}
