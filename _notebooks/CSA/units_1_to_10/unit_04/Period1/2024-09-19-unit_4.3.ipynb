{
 "cells": [
  {
   "cell_type": "markdown",
   "metadata": {},
   "source": [
    "---\n",
    "layout: post\n",
    "type: collab\n",
    "title: Unit 4.3 - String Iteration\n",
    "description: Unit 4 Team Teach\n",
    "comments: true\n",
    "permalink: /csa/unit4-p1/unit4-3\n",
    "menu: nav/CSA_Units/csa_unit4_p1.html\n",
    "author: hanlun, saaras, arthur, miheer, eshaan, beijan\n",
    "---"
   ]
  },
  {
   "cell_type": "markdown",
   "metadata": {},
   "source": [
    "## 4.3 String Iteration\n",
    "Methods of iterating through and interacting with strings"
   ]
  },
  {
   "cell_type": "code",
   "execution_count": 7,
   "metadata": {
    "vscode": {
     "languageId": "java"
    }
   },
   "outputs": [
    {
     "name": "stdout",
     "output_type": "stream",
     "text": [
      "true\n"
     ]
    }
   ],
   "source": [
    "String word = \"sunflower\";\n",
    "String sub = \"low\";\n",
    "boolean found = false;\n",
    "for (int i = 0; i < word.length()-sub.length(); i++) {\n",
    "    String portion = word.substring(i, i+sub.length());\n",
    "    if (portion.equals(sub)) {\n",
    "        found = true;\n",
    "    }\n",
    "}\n",
    "System.out.println(found);"
   ]
  },
  {
   "cell_type": "markdown",
   "metadata": {},
   "source": [
    "### What is a substring?\n",
    "- a substring is a subset of the main string\n",
    "- the substring(a,b) method creates a substring with the characters of the original string with indices of a to b.\n",
    "- string.length() returns the length of the string\n",
    "- string1.equals(string2) determines if the two strings have the same characters"
   ]
  },
  {
   "cell_type": "markdown",
   "metadata": {},
   "source": [
    "### Fun Stubstring Hack:\n",
    "Create a program that scrables any word that you put in, by reversing the first and last letters, then reversing the center letters. (example: sold becomes dlos, computer becomes retupmoc)"
   ]
  },
  {
   "cell_type": "code",
   "execution_count": 11,
   "metadata": {
    "vscode": {
     "languageId": "java"
    }
   },
   "outputs": [
    {
     "name": "stdout",
     "output_type": "stream",
     "text": [
      "retupmoc\n"
     ]
    }
   ],
   "source": [
    "String word = \"computer\";\n",
    "String scrambled = \"\";\n",
    "for (int i = word.length()-1; i >= 0; i--) {\n",
    "    scrambled += word.charAt(i);\n",
    "}\n",
    "System.out.println(scrambled);"
   ]
  }
 ],
 "metadata": {
  "kernelspec": {
   "display_name": "java (IJava/j!)",
   "language": "java",
   "name": "jbang-ijava"
  },
  "language_info": {
   "codemirror_mode": "java",
   "file_extension": ".jshell",
   "mimetype": "text/x-java-source",
   "name": "Java",
   "pygments_lexer": "java",
   "version": "17.0.12+1-b1087.25"
  }
 },
 "nbformat": 4,
 "nbformat_minor": 2
}
