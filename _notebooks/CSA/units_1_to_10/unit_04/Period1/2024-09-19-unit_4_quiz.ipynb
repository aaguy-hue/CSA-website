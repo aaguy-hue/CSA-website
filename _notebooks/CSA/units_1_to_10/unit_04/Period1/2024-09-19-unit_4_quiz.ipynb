{
 "cells": [
  {
   "cell_type": "markdown",
   "metadata": {},
   "source": [
    "---\n",
    "layout: post\n",
    "type: collab\n",
    "title: Unit 4 - Quiz\n",
    "description: Unit 4 Team Teach\n",
    "comments: true\n",
    "permalink: /csa/unit4-p1/unit4-quiz\n",
    "menu: nav/CSA_Units/csa_unit4_p1.html\n",
    "author: hanlun, saaras, arthur, miheer, eshaan, beijan\n",
    "---"
   ]
  },
  {
   "cell_type": "markdown",
   "metadata": {},
   "source": [
    "## Unit 4 - Iteration:\n",
    "- This assignement will be made of 3 multiple choice questions, and 2 coding hacks."
   ]
  },
  {
   "cell_type": "markdown",
   "metadata": {},
   "source": [
    "### Question 1:\n",
    "What does the following code print?\n",
    "\n",
    "A. 5 6 7 8 9\n",
    "\n",
    "B. 4 5 6 7 8 9 10 11 12\n",
    "\n",
    "C. 3 5 7 9 11\n",
    "\n",
    "D. 3 4 5 6 7 8 9 10 11 12\n",
    "\n",
    "Answer: D"
   ]
  },
  {
   "cell_type": "code",
   "execution_count": 1,
   "metadata": {
    "vscode": {
     "languageId": "java"
    }
   },
   "outputs": [
    {
     "name": "stdout",
     "output_type": "stream",
     "text": [
      "3 4 5 6 7 8 9 10 11 12 "
     ]
    }
   ],
   "source": [
    "for (int i = 3; i <= 12; i++)\n",
    "{\n",
    "   System.out.print(i + \" \");\n",
    "}"
   ]
  },
  {
   "cell_type": "markdown",
   "metadata": {},
   "source": [
    "### Question 2:\n",
    "How many times does the following method print a *?\n",
    "\n",
    "A. 9\n",
    "\n",
    "B. 7\n",
    "\n",
    "C. 6\n",
    "\n",
    "D. 10\n",
    "\n",
    "Answer: C"
   ]
  },
  {
   "cell_type": "code",
   "execution_count": 2,
   "metadata": {
    "vscode": {
     "languageId": "java"
    }
   },
   "outputs": [
    {
     "name": "stdout",
     "output_type": "stream",
     "text": [
      "******"
     ]
    }
   ],
   "source": [
    "for (int i = 3; i < 9; i++)\n",
    "{\n",
    "   System.out.print(\"*\");\n",
    "}"
   ]
  },
  {
   "cell_type": "markdown",
   "metadata": {},
   "source": [
    "### Question 3:\n",
    "What does the following code print?\n",
    "\n",
    "A. 5 4 3 2 1\n",
    "\n",
    "B. -5 -4 -3 -2 -1\n",
    "\n",
    "C. -4 -3 -2 -1 0\n",
    "\n",
    "Answer: C"
   ]
  },
  {
   "cell_type": "code",
   "execution_count": 4,
   "metadata": {
    "vscode": {
     "languageId": "java"
    }
   },
   "outputs": [
    {
     "name": "stdout",
     "output_type": "stream",
     "text": [
      "-4 -3 -2 -1 0 "
     ]
    }
   ],
   "source": [
    "int x = -5;\n",
    "while (x < 0)\n",
    "{\n",
    "   x++;\n",
    "   System.out.print(x + \" \");\n",
    "}"
   ]
  },
  {
   "cell_type": "markdown",
   "metadata": {},
   "source": [
    "## Loops homework hack\n",
    "### Easy Hack\n",
    "- use a while loop to find the numbers from 1-50 that are divisible by 3 or 5, then store them into a list (make sure to print it out at the end)\n",
    "- use a for loop to do the same thing detailed above\n",
    "\n"
   ]
  },
  {
   "cell_type": "code",
   "execution_count": 11,
   "metadata": {
    "vscode": {
     "languageId": "java"
    }
   },
   "outputs": [
    {
     "name": "stdout",
     "output_type": "stream",
     "text": [
      "[0, 3, 5, 6, 9, 10, 12, 15, 18, 20, 21, 24, 25, 27, 30, 33, 35, 36, 39, 40, 42, 45, 48, 50]\n",
      "[0, 3, 5, 6, 9, 10, 12, 15, 18, 20, 21, 24, 25, 27, 30, 33, 35, 36, 39, 40, 42, 45, 48, 50]\n"
     ]
    }
   ],
   "source": [
    "import java.util.ArrayList;\n",
    "\n",
    "ArrayList<Integer> arr = new ArrayList<>();\n",
    "int i = 0;\n",
    "while (i <= 50) {\n",
    "    if (i%3==0 || i%5==0) arr.add(i);\n",
    "    i++;\n",
    "}\n",
    "System.out.println(arr);\n",
    "\n",
    "ArrayList<Integer> arr2 = new ArrayList<>();\n",
    "for (int i = 0; i <= 50; i++) {\n",
    "    if (i%3==0 || i%5==0) arr2.add(i);\n",
    "}\n",
    "System.out.println(arr2);"
   ]
  },
  {
   "cell_type": "markdown",
   "metadata": {},
   "source": [
    "### Harder Hack\n",
    "#### Palindromes are numbers that have the same value when reversed (ex: “123321” or “323”). Create a program that uses a while loop that outputs all palindromes in any given list. \n",
    "\n",
    "Sample Input: \n",
    "test_list = [5672, 235, 5537, 6032, 317, 8460, 1672, 8104, 7770, 4442, 913, 2508, 1116, 9969, 9091, 522, 8756, 9527, 7968, 1520, 4444, 515, 2882, 6556, 595]\n",
    "\n",
    "Sample Output:\n",
    "4444, 515, 2882, 6556, 595"
   ]
  },
  {
   "cell_type": "code",
   "execution_count": 19,
   "metadata": {
    "vscode": {
     "languageId": "java"
    }
   },
   "outputs": [
    {
     "name": "stdout",
     "output_type": "stream",
     "text": [
      "Palindromes: \n",
      "4444 515 2882 6556 595 "
     ]
    }
   ],
   "source": [
    "public String reverse(String str) {\n",
    "    String reversed = \"\";\n",
    "    for (int i = str.length()-1; i >= 0; i--) {\n",
    "        reversed += str.charAt(i);\n",
    "    }\n",
    "    return reversed;\n",
    "}\n",
    "\n",
    "int[] test_list = {5672, 235, 5537, 6032, 317, 8460, 1672, 8104, 7770, 4442, 913, 2508, 1116, 9969, 9091, 522, 8756, 9527, 7968, 1520, 4444, 515, 2882, 6556, 595};\n",
    "\n",
    "System.out.println(\"Palindromes: \");\n",
    "int i = 0;\n",
    "while (i < test_list.length) {\n",
    "    int num = test_list[i];\n",
    "    String strNum = Integer.toString(num);\n",
    "    if (strNum.equals(reverse(strNum))) {\n",
    "        System.out.print(num + \" \");\n",
    "    }\n",
    "    i++;\n",
    "}"
   ]
  },
  {
   "cell_type": "markdown",
   "metadata": {},
   "source": [
    "## Coding Hack(For above 0.9):\n",
    "### Use a for loop to output a spiral matrix with size n\n",
    "For example:\n",
    "Sample Input: \n",
    "3\n",
    "\n",
    "Output: \n",
    "[[1, 2, 3], \n",
    "[8, 9, 4], \n",
    "[7, 6, 5]]\n"
   ]
  },
  {
   "cell_type": "code",
   "execution_count": 27,
   "metadata": {
    "vscode": {
     "languageId": "java"
    }
   },
   "outputs": [
    {
     "name": "stdout",
     "output_type": "stream",
     "text": [
      "1 2 3 \n",
      "8 9 4 \n",
      "7 6 5 \n"
     ]
    }
   ],
   "source": [
    "import java.util.ArrayList;\n",
    "\n",
    "int n = 3;\n",
    "\n",
    "ArrayList<ArrayList<Integer>> mtx = new ArrayList<>();\n",
    "for (int i = 0; i < n; i++) {\n",
    "    mtx.add(new ArrayList<Integer>());\n",
    "    for (int j = 0; j < n; j++) {\n",
    "        mtx.get(i).add(0);\n",
    "    }\n",
    "}\n",
    "\n",
    "int index = 1;\n",
    "int top = 0;\n",
    "int bottom = n - 1;\n",
    "int left = 0;\n",
    "int right = n - 1;\n",
    "\n",
    "while (index <= n*n) {\n",
    "    for (int j = left; j <= right && index <= n * n; j++) {\n",
    "        mtx.get(top).set(j, index++);\n",
    "    }\n",
    "    top++;\n",
    "\n",
    "    for (int i = top; i <= bottom && index <= n * n; i++) {\n",
    "        mtx.get(i).set(right, index++);\n",
    "    }\n",
    "    right--;\n",
    "\n",
    "    for (int j = right; j >= left && index <= n * n; j--) {\n",
    "        mtx.get(bottom).set(j, index++);\n",
    "    }\n",
    "    bottom--;\n",
    "\n",
    "    for (int i = bottom; i >= top && index <= n * n; i--) {\n",
    "        mtx.get(i).set(left, index++);\n",
    "    }\n",
    "    left++;\n",
    "}\n",
    "\n",
    "for (ArrayList<Integer> row : mtx) {\n",
    "    for (Integer num : row) {\n",
    "        System.out.print(num + \" \");\n",
    "    }\n",
    "    System.out.println();\n",
    "}\n"
   ]
  }
 ],
 "metadata": {
  "kernelspec": {
   "display_name": "java (IJava/j!)",
   "language": "java",
   "name": "jbang-ijava"
  },
  "language_info": {
   "codemirror_mode": "java",
   "file_extension": ".jshell",
   "mimetype": "text/x-java-source",
   "name": "Java",
   "pygments_lexer": "java",
   "version": "17.0.12+1-b1087.25"
  }
 },
 "nbformat": 4,
 "nbformat_minor": 2
}
