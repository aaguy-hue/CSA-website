{
 "cells": [
  {
   "cell_type": "markdown",
   "metadata": {},
   "source": [
    "---\n",
    "layout: post\n",
    "title:  Hacks\n",
    "description: Hacks Menu\n",
    "courses: { csse: {week: 1}, csp: {week: 1}, csa: {week: 1} }\n",
    "categories: [DevOps]\n",
    "permalink: /inheritance-hacks\n",
    "menu: nav/inheritance.html\n",
    "comments: true\n",
    "sticky_rank: 1\n",
    "---"
   ]
  },
  {
   "cell_type": "markdown",
   "metadata": {},
   "source": [
    "# 9.1 Hacks\n",
    "\n",
    "- Implement two new subclasses, Circle and Hexagon, extending from the Shape class. Each shape should have a method to calculate its area and should override the print_something() method to print something unique for that shape. Follow the same structure as the Rectangle and Triangle classes!\n",
    "\n",
    "- Optional!\n",
    "- Create a new subclass called Ellipse that extends Shape. Update Your Driver Code\n",
    "\n",
    "- Constructor: Implement a constructor for Ellipse that accepts parameters for name, length, and width. This constructor should call the superclass constructor using super().\n",
    "\n",
    "\n",
    "\n",
    "\n",
    "- Test the Ellipse: Instantiate an Ellipse object and print its area. Verify that the constructor correctly initializes the shape and that the super() keyword is used properly.\n",
    "Hints:\n",
    "\n",
    "- Ellipse Constructor: Use super(name, length, width) to initialize inherited fields.\n",
    "Check Order: Remember, super() must be the first statement in your subclass constructor.\n"
   ]
  },
  {
   "cell_type": "markdown",
   "metadata": {},
   "source": [
    "# 9.3 Hacks\n",
    "\n",
    "- When overriding the area method for both the Ellipse and the Hexagon use the `@Override` notation. \n",
    "- For the area of the hexagon it may be useful to look into the [hexagon area formula](https://www.cuemath.com/measurement/area-of-a-hexagon/):\n",
    "\n",
    "Area = (3√3 / 2) * s²\n",
    "- Also override the `calc_perimeter()` method for both shapes.\n",
    "- use the super keyword to have both shaps use both the parent `print_something()` and child `print_something()` method\n",
    "    Both shapes should print out something along the lines of: \"This is a shape and also a hexagon\""
   ]
  },
  {
   "cell_type": "markdown",
   "metadata": {},
   "source": [
    "# 9.5 Hacks\n",
    "\n",
    "\n",
    "Let's implement the `Triangle` subclass to deepen your understanding. Below is a half-completed method for the `Triangle` class. Your task is to complete the `draw` method. Make sure your implementation returns a unique string for the `Triangle` class. This exercise will help reinforce how subclasses can extend functionality.\n",
    "\n",
    "### Advanced Challenge: Area Calculation\n",
    "Now, let’s enhance our `Shape` class to include an area calculation feature. Modify the `Shape` class to include an `area` method, and implement it in your subclasses. Below is a structure to help you get started: Ensure each subclass calculates and returns its area correctly. This will allow you to practice method overriding further and understand how different shapes can extend base functionalities.\n",
    "\n",
    "\n",
    "## Homework Hack\n",
    "For your homework, create your own class hierarchy for shapes. You should have a base class called `Shape` with subclasses `Triangle`, `Rectangle`, and `Hexagon`. Each subclass should implement a method called `draw()`, returning a unique string for each shape type.\n",
    "\n",
    "    - `Triangle`: \"Drawing a triangle.\"\n",
    "\n",
    "    - `Rectangle`: \"Drawing a rectangle.\"\n",
    "\n",
    "    - `Hexagon`: \"Drawing a hexagon.\"\n",
    "\n",
    "Make sure to demonstrate polymorphism by creating an array of `Shape` types and iterating through it to call the `draw()` method. This will reinforce your understanding of class hierarchies and method overriding."
   ]
  },
  {
   "cell_type": "markdown",
   "metadata": {},
   "source": [
    "# 9.6 Hacks\n",
    "* using a previous example of inheritance create an example of polymorphsim, or create an example of polymorphic behavhoir between two classes of **Shape** and **Sqaure**\n",
    "* Using the previous polymorphism popcorn hack, explain which parts are static and dynamic data types and when that is the case\n",
    "* Define **Down-Casting** in your own words\n",
    "* using the previous polymorphism example add an example of down-casting."
   ]
  },
  {
   "cell_type": "markdown",
   "metadata": {},
   "source": [
    "# 9.7 Hacks\n",
    "* Create an class where you execute an unchanged method from *Object*, then execute a different method from *Object* that you changed."
   ]
  },
  {
   "cell_type": "markdown",
   "metadata": {},
   "source": [
    "### FRQ Prompt\n",
    "\n",
    "**Consider a program that manages a collection of books, specifically focusing on textbooks. You are required to implement a class named `Textbook` that extends an existing class called `Book`. The `Textbook` class should include the following features:**\n",
    "\n",
    "1. A private integer field named `edition` that represents the edition number of the textbook.\n",
    "2. A constructor that takes three parameters: a string for the title, a double for the price, and an integer for the edition. This constructor should invoke the superclass constructor to initialize the title and price.\n",
    "3. A method `getEdition()` that returns the edition of the textbook.\n",
    "4. A method `canSubstituteFor(Textbook other)` that determines if the current textbook can be substituted for another textbook. This method should return true if both textbooks have the same title and the current textbook's edition is equal to or greater than the other textbook's edition.\n",
    "5. An overridden method `getBookInfo()` that returns a string representation of the textbook information, including the title, price, and edition.\n",
    "6. Optional: Include error handling in the constructor to ensure that the edition is a positive integer, and override the `toString()` method for convenient output of the textbook information.\n",
    "\n",
    "Write the complete implementation of the `Textbook` class, including all specified methods and any additional features you believe would be beneficial.\n"
   ]
  },
  {
   "cell_type": "code",
   "execution_count": 13,
   "metadata": {
    "vscode": {
     "languageId": "java"
    }
   },
   "outputs": [
    {
     "name": "stdout",
     "output_type": "stream",
     "text": [
      "Title: Calculus, Price: $59.99, ISBN: 978-0-387-74323-8, Edition: 3\n",
      "Price with 10% discount: $53.991\n",
      "\n",
      "Title: Calculus, Price: $39.99, ISBN: 978-0-387-74323-9, Edition: 2\n",
      "Price with 5% discount: $37.9905\n",
      "\n",
      "Title: AP US History, Price: $69.99, ISBN: 978-0-123-45678-9, Edition: 14\n",
      "Price with 15% discount: $59.491499999999995\n",
      "\n",
      "Can we substitute the two math textbooks? true\n"
     ]
    }
   ],
   "source": [
    "public class Book {\n",
    "    private String title;\n",
    "    private double price;\n",
    "    private String isbn;\n",
    "    private double discount;\n",
    "\n",
    "    public Book(String title, double price, String isbn) {\n",
    "        this.title = title;\n",
    "        this.price = price;\n",
    "        this.isbn = isbn;\n",
    "        this.discount = 0.0; // Initialize discount to zero\n",
    "    }\n",
    "\n",
    "    public String getTitle() {\n",
    "        return title;\n",
    "    }\n",
    "\n",
    "    public double getPrice() {\n",
    "        return price;\n",
    "    }\n",
    "\n",
    "    public String getIsbn() {\n",
    "        return isbn;\n",
    "    }\n",
    "\n",
    "    public void applyDiscount(double discountPercentage) {\n",
    "        if (discountPercentage < 0 || discountPercentage > 100) {\n",
    "            throw new IllegalArgumentException(\"Discount percentage must be between 0 and 100.\");\n",
    "        }\n",
    "        discount = discountPercentage;\n",
    "    }\n",
    "\n",
    "    public double getDiscountedPrice() {\n",
    "        return price * (1 - discount / 100);\n",
    "    }\n",
    "\n",
    "    public String getBookInfo() {\n",
    "        return \"Title: \" + title + \", Price: $\" + getDiscountedPrice() + \", ISBN: \" + isbn;\n",
    "    }\n",
    "}\n",
    "\n",
    "public class Textbook extends Book {\n",
    "    private int edition;\n",
    "\n",
    "    public Textbook(String title, double price, int edition, String isbn) {\n",
    "        super(title, price, isbn);\n",
    "        if (edition <= 0) {\n",
    "            throw new IllegalArgumentException(\"Edition must be a positive integer.\");\n",
    "        }\n",
    "        this.edition = edition;\n",
    "    }\n",
    "\n",
    "    public int getEdition() {\n",
    "        return edition;\n",
    "    }\n",
    "\n",
    "    public boolean canSubstituteFor(Textbook other) {\n",
    "        return this.getTitle().equals(other.getTitle()) && this.edition >= other.edition;\n",
    "    }\n",
    "\n",
    "    @Override\n",
    "    public String getBookInfo() {\n",
    "        return super.getBookInfo() + \", Edition: \" + edition;\n",
    "    }\n",
    "\n",
    "    @Override\n",
    "    public String toString() {\n",
    "        return getBookInfo();\n",
    "    }\n",
    "}\n",
    "\n",
    "public class Main {\n",
    "    public static void main(String[] args) {\n",
    "        Textbook mathTextbook = new Textbook(\"Calculus\", 59.99, 3, \"978-0-387-74323-8\");\n",
    "        Textbook anotherMathTextbook = new Textbook(\"Calculus\", 39.99, 2, \"978-0-387-74323-9\");\n",
    "        Textbook apushTextbook = new Textbook(\"AP US History\", 69.99, 14, \"978-0-123-45678-9\");\n",
    "        \n",
    "        System.out.println(mathTextbook.getBookInfo());\n",
    "        mathTextbook.applyDiscount(10);\n",
    "        System.out.println(\"Price with 10% discount: $\" + mathTextbook.getDiscountedPrice() + \"\\n\");\n",
    "        \n",
    "        System.out.println(anotherMathTextbook.getBookInfo());\n",
    "        anotherMathTextbook.applyDiscount(5);\n",
    "        System.out.println(\"Price with 5% discount: $\" + anotherMathTextbook.getDiscountedPrice() + \"\\n\");\n",
    "        \n",
    "        System.out.println(apushTextbook.getBookInfo());\n",
    "        apushTextbook.applyDiscount(15);\n",
    "        System.out.println(\"Price with 15% discount: $\" + apushTextbook.getDiscountedPrice() + \"\\n\");\n",
    "\n",
    "        System.out.println(\"Can we substitute the two math textbooks? \" + mathTextbook.canSubstituteFor(anotherMathTextbook));\n",
    "    }\n",
    "}\n",
    "\n",
    "\n",
    "Main.main(null);"
   ]
  },
  {
   "cell_type": "markdown",
   "metadata": {},
   "source": [
    "## Multiple Choice\n",
    "### 1. What is wrong with this block of code?"
   ]
  },
  {
   "cell_type": "code",
   "execution_count": null,
   "metadata": {
    "vscode": {
     "languageId": "java"
    }
   },
   "outputs": [],
   "source": [
    "class Shape {\n",
    "    private double length = 0;\n",
    "    private double width = 0;\n",
    "    \n",
    "    public Shape(double length, double width){\n",
    "        this.length = length;\n",
    "        this.width = width;\n",
    "    }\n",
    "\n",
    "    public double getArea(){\n",
    "        return this.length * this.width;\n",
    "    }\n",
    "\n",
    "    private String toString(){\n",
    "        return \"Shape length:\"+ (new Double(this.length)).toString() + \" width:\" + (new Double(this.width)).toString();\n",
    "    }\n",
    "}\n",
    "\n",
    "Shape myShape = new Shape(2,3);\n",
    "\n",
    "System.out.println(myShape.getArea());"
   ]
  },
  {
   "cell_type": "markdown",
   "metadata": {},
   "source": [
    "a) You can't use the **this** keyword in the constructor\n",
    "\n",
    "b) When passing a **double** through an argument it must be in the form of 0.0\n",
    "\n",
    "c) The **toString()** method must be public  ✅✅✅\n",
    "\n",
    "d) The **getArea()** method doesn't return a double\n",
    "\n",
    "### 2. Which method cannot be exectuted in the following example of Polymorphism"
   ]
  },
  {
   "cell_type": "code",
   "execution_count": 18,
   "metadata": {
    "vscode": {
     "languageId": "java"
    }
   },
   "outputs": [],
   "source": [
    "class Water{\n",
    "    public String toString(){\n",
    "        return \"Water\";\n",
    "    }\n",
    "\n",
    "    private boolean isSalty(){\n",
    "        return false;\n",
    "    }\n",
    "\n",
    "    public String typeOfWater(){\n",
    "        return \"Static\";\n",
    "    }\n",
    "\n",
    "}\n",
    "\n",
    "class Lake extends Water{\n",
    "    public String toString(){\n",
    "        return \"Lake\";\n",
    "    }\n",
    "\n",
    "    public boolean isSalty(){\n",
    "        return true;\n",
    "    }\n",
    "}\n",
    "\n",
    "Water myLakeWater = new Lake();"
   ]
  },
  {
   "cell_type": "markdown",
   "metadata": {},
   "source": [
    "a) **typeOfWater()**\n",
    "\n",
    "b) **isSalty()** ✅✅✅\n",
    "\n",
    "c) **toString()**\n",
    "\n",
    "d) **getClass()**"
   ]
  }
 ],
 "metadata": {
  "kernelspec": {
   "display_name": "java (IJava/j!)",
   "language": "java",
   "name": "jbang-ijava"
  },
  "language_info": {
   "codemirror_mode": "java",
   "file_extension": ".jshell",
   "mimetype": "text/x-java-source",
   "name": "Java",
   "pygments_lexer": "java",
   "version": "17.0.12+1-b1087.25"
  }
 },
 "nbformat": 4,
 "nbformat_minor": 2
}
