{
 "cells": [
  {
   "cell_type": "markdown",
   "metadata": {},
   "source": [
    "---\n",
    "layout: post\n",
    "title: Creating References Using Inheritance Hierarchies\n",
    "categories: [DevOps]\n",
    "menu: nav/inheritance.html\n",
    "permalink: /inheritance/hierarchies\n",
    "toc: false\n",
    "comments: true\n",
    "---"
   ]
  },
  {
   "cell_type": "markdown",
   "metadata": {},
   "source": [
    "## Understanding Class Hierarchies"
   ]
  },
  {
   "cell_type": "markdown",
   "metadata": {},
   "source": [
    "Class hierarchies in Java enable structured relationships between classes through **inheritance**. This concept is foundational to object-oriented programming and enhances code reusability and organization, which simplifies managing complex systems.\n",
    "\n",
    "In a class hierarchy, a **superclass** can pass down properties and methods to its **subclasses**. This allows subclasses to inherit functionality while also being able to define or modify behaviors that are specific to themselves. This leads to a more manageable code structure and helps in maintaining code consistency."
   ]
  },
  {
   "cell_type": "markdown",
   "metadata": {},
   "source": [
    "### Components of Class Hierarchies\n",
    "1. **Superclass**: The parent class from which properties and methods are inherited.\n",
    "2. **Subclass**: A child class that inherits from the superclass and can override or extend its functionality.\n",
    "3. **Polymorphism**: The ability to treat objects of different classes through a common interface, allowing for method overriding."
   ]
  },
  {
   "cell_type": "markdown",
   "metadata": {},
   "source": [
    "### Example Hierarchy"
   ]
  },
  {
   "cell_type": "code",
   "execution_count": 40,
   "metadata": {
    "vscode": {
     "languageId": "java"
    }
   },
   "outputs": [],
   "source": [
    "public class Shape {\n",
    "    protected String name;\n",
    "\n",
    "    public Shape(String name) {\n",
    "        this.name = name;\n",
    "    }\n",
    "\n",
    "    public double calc_area() {\n",
    "        return 0.0;\n",
    "    }\n",
    "\n",
    "    public void print_shape() {\n",
    "        System.out.println(\"Shape: \" + name);\n",
    "    }\n",
    "\n",
    "    public String draw() {\n",
    "        return \"Drawing a shape\";\n",
    "    }\n",
    "}\n"
   ]
  },
  {
   "cell_type": "markdown",
   "metadata": {},
   "source": [
    "## Derived Class: Rectangle\n",
    "Now, let's create a `Rectangle` class that inherits from `Shape`."
   ]
  },
  {
   "cell_type": "code",
   "execution_count": 41,
   "metadata": {
    "vscode": {
     "languageId": "java"
    }
   },
   "outputs": [],
   "source": [
    "public class Rectangle extends Shape {\n",
    "    private int length;\n",
    "    private int width;\n",
    "\n",
    "    public Rectangle(String name, int length, int width) {\n",
    "        super(name);\n",
    "        this.length = length;\n",
    "        this.width = width;\n",
    "    }\n",
    "\n",
    "    @Override\n",
    "    public double calc_area() {\n",
    "        return length * width;\n",
    "    }\n",
    "}\n",
    "\n",
    "class Circle extends Shape {\n",
    "    public int radius;\n",
    "\n",
    "    public Circle(String name, int radius) {\n",
    "        super(name);\n",
    "        this.radius = radius;\n",
    "    }\n",
    "\n",
    "    @Override\n",
    "    public double calc_area() {\n",
    "        return Math.PI * radius * radius;\n",
    "    }\n",
    "\n",
    "    @Override\n",
    "    public String draw() {\n",
    "        return \"Drawing a circle\";\n",
    "    }\n",
    "}\n",
    "\n"
   ]
  },
  {
   "cell_type": "markdown",
   "metadata": {},
   "source": [
    "## Derived Class: Triangle\n",
    "Next, let's create a `Triangle` class that also inherits from `Shape`."
   ]
  },
  {
   "cell_type": "code",
   "execution_count": 45,
   "metadata": {
    "vscode": {
     "languageId": "java"
    }
   },
   "outputs": [],
   "source": [
    "public class Triangle extends Shape {\n",
    "    private int side1;\n",
    "    private int side2;\n",
    "    private int side3;\n",
    "\n",
    "    public Triangle(String name, int s1, int s2, int s3) {\n",
    "        super(name);\n",
    "        this.side1 = s1;\n",
    "        this.side2 = s2;\n",
    "        this.side3 = s3;\n",
    "    }\n",
    "\n",
    "    @Override\n",
    "    public double calc_area() {\n",
    "        double s = (side1+side2+side3)/2;\n",
    "        double area = Math.sqrt(s*(s-side1)*(s-side2)*(s-side3));\n",
    "        return area;\n",
    "    }\n",
    "\n",
    "    @Override\n",
    "    public String draw() {\n",
    "        return \"Drawing a triangle\";\n",
    "    }\n",
    "}\n",
    "\n",
    "class Square extends Rectangle {\n",
    "    public Square(String name, int sideLength) {\n",
    "        super(name, sideLength, sideLength);\n",
    "    }\n",
    "\n",
    "    // NOTE: SINCE SQUARE EXTENDS RECTANGLE, WE DON'T NEED TO OVERRIDE CALC_AREA()\n",
    "\n",
    "    @Override\n",
    "    public String draw() {\n",
    "        return \"Drawing a square\";\n",
    "    }\n",
    "}"
   ]
  },
  {
   "cell_type": "markdown",
   "metadata": {},
   "source": [
    "## Testing Our Classes\n",
    "Let's create instances of `Rectangle` and `Triangle` and call their methods."
   ]
  },
  {
   "cell_type": "code",
   "execution_count": 46,
   "metadata": {
    "vscode": {
     "languageId": "java"
    }
   },
   "outputs": [
    {
     "name": "stdout",
     "output_type": "stream",
     "text": [
      "Drawing a circle\n",
      "Drawing a square\n"
     ]
    }
   ],
   "source": [
    "public class Main {\n",
    "    public static void main(String[] args) {\n",
    "        Shape myCircle = new Circle(\"Circle 1\", 5);\n",
    "        Shape mySquare = new Square(\"Square 1\", 2);\n",
    "\n",
    "        System.out.println(myCircle.draw()); // Outputs: Drawing a circle\n",
    "        System.out.println(mySquare.draw()); // Outputs: Drawing a square\n",
    "    }\n",
    "}\n",
    "\n",
    "Main.main(null);"
   ]
  },
  {
   "cell_type": "markdown",
   "metadata": {},
   "source": [
    "In the example above, `Shape` acts as the superclass, while `Circle` and `Square` are subclasses that override the `draw` method to provide specific behavior. This demonstrates **polymorphism**, enabling us to reference subclasses using a superclass type and invoke the overridden methods dynamically at runtime. This is particularly powerful as it allows for flexibility in the code, facilitating easier changes and enhancements."
   ]
  },
  {
   "cell_type": "markdown",
   "metadata": {},
   "source": [
    "### Benefits of Using Class Hierarchies\n",
    "1. **Code Reusability**: Common behaviors are defined in the superclass, significantly reducing code duplication and making it easier to maintain and update.\n",
    "2. **Organized Structure**: A clear hierarchical structure in your code aids in understanding the relationships between classes, making the codebase more intuitive and manageable.\n",
    "3. **Polymorphism**: Allows for dynamic method resolution, enabling methods to be invoked on objects of subclasses through references of the superclass type."
   ]
  },
  {
   "cell_type": "markdown",
   "metadata": {},
   "source": [
    "## Practical Exercise: Popcorn Hack 1\n",
    "Let's implement the `Triangle` subclass to deepen your understanding. Below is a half-completed method for the `Triangle` class. Your task is to complete the `draw` method:\n",
    "\n",
    "```java\n",
    "class Shape {\n",
    "    public String draw() {\n",
    "        return \"Drawing a shape\";\n",
    "    }\n",
    "}\n",
    "\n",
    "class Triangle extends Shape {\n",
    "    @Override\n",
    "    public String draw() {\n",
    "        // TODO: Implement this method\n",
    "    }\n",
    "}\n",
    "\n",
    "public class Main {\n",
    "    public static void main(String[] args) {\n",
    "        Shape myTriangle = new Triangle();\n",
    "        System.out.println(myTriangle.draw()); // Should output: \"Drawing a triangle.\"\n",
    "    }\n",
    "}\n",
    "```\n",
    "Make sure your implementation returns a unique string for the `Triangle` class. This exercise will help reinforce how subclasses can extend functionality."
   ]
  },
  {
   "cell_type": "markdown",
   "metadata": {},
   "source": [
    "### Expanding Your Skills: Adding a Rectangle Class\n",
    "Next, let's implement the `Rectangle` subclass. Below is the basic setup for it. Your task is to implement the `draw` method for the `Rectangle` class:\n",
    "\n",
    "```java\n",
    "class Rectangle extends Shape {\n",
    "    @Override\n",
    "    public String draw() {\n",
    "        // TODO: Implement this method\n",
    "    }\n",
    "}\n",
    "\n",
    "public static void main(String[] args) {\n",
    "    Shape myRectangle = new Rectangle();\n",
    "    System.out.println(myRectangle.draw()); // Should output: \"Drawing a rectangle.\"\n",
    "}\n",
    "```\n",
    "Complete the `draw` method in `Rectangle`, ensuring it returns a unique string. This will reinforce how multiple subclasses can have distinct implementations of the same method, enhancing your understanding of class hierarchies."
   ]
  },
  {
   "cell_type": "markdown",
   "metadata": {},
   "source": [
    "### Advanced Challenge: Area Calculation\n",
    "Now, let’s enhance our `Shape` class to include an area calculation feature. Modify the `Shape` class to include an `area` method, and implement it in your subclasses. Below is a structure to help you get started:\n",
    "\n",
    "    ```java\n",
    "class Shape {\n",
    "    public String draw() {\n",
    "        return \"Drawing a shape\";\n",
    "    }\n",
    "    public double area() {\n",
    "        return 0; // Default implementation\n",
    "    }\n",
    "}\n",
    "\n",
    "    class Circle extends Shape {\n",
    "        @Override\n",
    "        public double area() {\n",
    "            // TODO: Implement area calculation\n",
    "        }\n",
    "    }\n",
    "\n",
    "    class Square extends Shape {\n",
    "        @Override\n",
    "        public double area() {\n",
    "            // TODO: Implement area calculation\n",
    "        }\n",
    "    }\n",
    "    // Implement for Triangle and Rectangle as well\n",
    "    ```\n",
    "Ensure each subclass calculates and returns its area correctly. This will allow you to practice method overriding further and understand how different shapes can extend base functionalities."
   ]
  },
  {
   "cell_type": "markdown",
   "metadata": {},
   "source": [
    "## Homework Hack\n",
    "For your homework, create your own class hierarchy for shapes. You should have a base class called `Shape` with subclasses `Triangle`, `Rectangle`, and `Hexagon`. Each subclass should implement a method called `draw()`, returning a unique string for each shape type.\n",
    "\n",
    "    - `Triangle`: \"Drawing a triangle.\"\n",
    "\n",
    "    - `Rectangle`: \"Drawing a rectangle.\"\n",
    "\n",
    "    - `Hexagon`: \"Drawing a hexagon.\"\n",
    "\n",
    "Make sure to demonstrate polymorphism by creating an array of `Shape` types and iterating through it to call the `draw()` method. This will reinforce your understanding of class hierarchies and method overriding."
   ]
  },
  {
   "cell_type": "code",
   "execution_count": 61,
   "metadata": {
    "vscode": {
     "languageId": "java"
    }
   },
   "outputs": [
    {
     "name": "stdout",
     "output_type": "stream",
     "text": [
      "Drawing a rectangle\n",
      "Drawing a square\n",
      "Drawing a hexagon\n",
      "Drawing a triangle\n",
      "Drawing a circle\n",
      "\n",
      "Area of rectangle: 12.0\n",
      "Area of square: 625.0\n",
      "Area of hexagon: 17469.464445139696\n",
      "Area of triangle: 6.0\n",
      "Area of circle: 50.26548245743669\n"
     ]
    }
   ],
   "source": [
    "// I was editing the code in the code cells above, so I have copied it down here + addeed the hexagon\n",
    "\n",
    "public class Shape {\n",
    "    protected String name;\n",
    "\n",
    "    public Shape(String name) {\n",
    "        this.name = name;\n",
    "    }\n",
    "\n",
    "    public double calc_area() {\n",
    "        return 0.0;\n",
    "    }\n",
    "\n",
    "    public void print_shape() {\n",
    "        System.out.println(\"Shape: \" + name);\n",
    "    }\n",
    "\n",
    "    public String draw() {\n",
    "        return \"Drawing a shape\";\n",
    "    }\n",
    "}\n",
    "\n",
    "public class Rectangle extends Shape {\n",
    "    private int length;\n",
    "    private int width;\n",
    "\n",
    "    public Rectangle(String name, int length, int width) {\n",
    "        super(name);\n",
    "        this.length = length;\n",
    "        this.width = width;\n",
    "    }\n",
    "\n",
    "    @Override\n",
    "    public double calc_area() {\n",
    "        return length * width;\n",
    "    }\n",
    "\n",
    "    @Override\n",
    "    public String draw() {\n",
    "        return \"Drawing a rectangle\";\n",
    "    }\n",
    "}\n",
    "\n",
    "class Circle extends Shape {\n",
    "    public int radius;\n",
    "\n",
    "    public Circle(String name, int radius) {\n",
    "        super(name);\n",
    "        this.radius = radius;\n",
    "    }\n",
    "\n",
    "    @Override\n",
    "    public double calc_area() {\n",
    "        return Math.PI * radius * radius;\n",
    "    }\n",
    "\n",
    "    @Override\n",
    "    public String draw() {\n",
    "        return \"Drawing a circle\";\n",
    "    }\n",
    "}\n",
    "\n",
    "\n",
    "public class Triangle extends Shape {\n",
    "    private int side1;\n",
    "    private int side2;\n",
    "    private int side3;\n",
    "\n",
    "    public Triangle(String name, int s1, int s2, int s3) {\n",
    "        super(name);\n",
    "        this.side1 = s1;\n",
    "        this.side2 = s2;\n",
    "        this.side3 = s3;\n",
    "    }\n",
    "\n",
    "    @Override\n",
    "    public double calc_area() {\n",
    "        double s = (side1+side2+side3)/2;\n",
    "        double area = Math.sqrt(s*(s-side1)*(s-side2)*(s-side3));\n",
    "        return area;\n",
    "    }\n",
    "\n",
    "    @Override\n",
    "    public String draw() {\n",
    "        return \"Drawing a triangle\";\n",
    "    }\n",
    "}\n",
    "\n",
    "class Square extends Rectangle {\n",
    "    public Square(String name, int sideLength) {\n",
    "        super(name, sideLength, sideLength);\n",
    "    }\n",
    "\n",
    "    // NOTE: SINCE SQUARE EXTENDS RECTANGLE, WE DON'T NEED TO OVERRIDE CALC_AREA()\n",
    "\n",
    "    @Override\n",
    "    public String draw() {\n",
    "        return \"Drawing a square\";\n",
    "    }\n",
    "}\n",
    "\n",
    "class RegularHexagon extends Shape {\n",
    "    int sideLength;\n",
    "\n",
    "    public RegularHexagon(String name, int sideLength) {\n",
    "        super(name);\n",
    "        this.sideLength = sideLength;\n",
    "    }\n",
    "\n",
    "    @Override\n",
    "    public double calc_area() {\n",
    "        return 3*Math.sqrt(3)/2 * sideLength * sideLength;\n",
    "    }\n",
    "\n",
    "    @Override\n",
    "    public String draw() {\n",
    "        return \"Drawing a hexagon\";\n",
    "    }\n",
    "}\n",
    "\n",
    "public class Main {\n",
    "    public static void main(String[] args) {\n",
    "        Rectangle rect = new Rectangle(\"rect 1\", 2, 6);\n",
    "        Square square = new Square(\"square 1\", 25);\n",
    "        RegularHexagon hex = new RegularHexagon(\"rect 1\", 82);\n",
    "        Triangle tri = new Triangle(\"triangle 1\", 3, 4, 5);\n",
    "        Circle circle = new Circle(\"circle 1\", 4);\n",
    "\n",
    "        System.out.println(rect.draw());\n",
    "        System.out.println(square.draw());\n",
    "        System.out.println(hex.draw());\n",
    "        System.out.println(tri.draw());\n",
    "        System.out.println(circle.draw());\n",
    "\n",
    "        System.out.println();\n",
    "\n",
    "        System.out.println(\"Area of rectangle: \" + rect.calc_area());\n",
    "        System.out.println(\"Area of square: \" + square.calc_area());\n",
    "        System.out.println(\"Area of hexagon: \" + hex.calc_area());\n",
    "        System.out.println(\"Area of triangle: \" + tri.calc_area());\n",
    "        System.out.println(\"Area of circle: \" + circle.calc_area());\n",
    "    }\n",
    "}\n",
    "\n",
    "Main.main(null);"
   ]
  }
 ],
 "metadata": {
  "kernelspec": {
   "display_name": "java (IJava/j!)",
   "language": "java",
   "name": "jbang-ijava"
  },
  "language_info": {
   "codemirror_mode": "java",
   "file_extension": ".jshell",
   "mimetype": "text/x-java-source",
   "name": "Java",
   "pygments_lexer": "java",
   "version": "17.0.12+1-b1087.25"
  }
 },
 "nbformat": 4,
 "nbformat_minor": 2
}
