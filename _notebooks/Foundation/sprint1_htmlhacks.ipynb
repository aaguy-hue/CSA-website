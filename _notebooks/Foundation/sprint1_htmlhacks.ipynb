{
 "cells": [
  {
   "cell_type": "code",
   "execution_count": null,
   "metadata": {
    "vscode": {
     "languageId": "html"
    }
   },
   "outputs": [],
   "source": [
    "<div>\n",
    "    <p>This is a paragraph!</p>\n",
    "    <button>This is a button</button>\n",
    "</div>\n",
    "\n",
    "<div>\n",
    "    <a href=\"https://wikipedia.org\">Wkipedia</a>\n",
    "    <a href=\"https://youtube.com\">Youtube</a>\n",
    "    <p>These are some very good websites</p>\n",
    "</div>"
   ]
  },
  {
   "cell_type": "markdown",
   "metadata": {},
   "source": []
  }
 ],
 "metadata": {
  "kernelspec": {
   "display_name": "Deno",
   "language": "typescript",
   "name": "deno"
  },
  "language_info": {
   "name": "typescript"
  }
 },
 "nbformat": 4,
 "nbformat_minor": 2
}
