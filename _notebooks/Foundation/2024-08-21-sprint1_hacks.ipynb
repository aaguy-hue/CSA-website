{
 "cells": [
  {
   "cell_type": "raw",
   "metadata": {
    "vscode": {
     "languageId": "raw"
    }
   },
   "source": [
    "---\n",
    "layout: post\n",
    "title: Sprint 1 - Hacks\n",
    "description: Search and rate wikipedia articles\n",
    "type: issues\n",
    "comments: true\n",
    "---"
   ]
  },
  {
   "cell_type": "markdown",
   "metadata": {},
   "source": [
    "# Wikipedia Search\n",
    "This program allows you to search for wikipedia articles and then rate them after reading them.\n",
    "Once you quit the program, it tells you the average of your ratings. It stores the ratings in a database so that the information persists across sessions 😋."
   ]
  },
  {
   "cell_type": "code",
   "execution_count": 5,
   "metadata": {},
   "outputs": [
    {
     "name": "stdout",
     "output_type": "stream",
     "text": [
      "Here is a summary of the article:\n",
      "Money is any item or verifiable record that is generally accepted as payment for goods and services and repayment of debts, such as taxes, in a particular country or socio-economic context. The primary functions which distinguish money are: medium of exchange, a unit of account, a store of value and sometimes, a standard of deferred payment.\n",
      "Money was historically an emergent market phenomenon that possessed intrinsic value as a commodity; nearly all contemporary money systems are based on unbacked fiat money without use value. Its value is consequently derived by social convention, having been declared by a government or regulatory entity to be legal tender; that is, it must be accepted as a form of payment within the boundaries of the country, for \"all debts, public and private\", in the case of the United States dollar.\n",
      "The money supply of a country comprises all currency in circulation (banknotes and coins currently issued) and, depending on the particular definition used, one or more types of bank money (the balances held in checking accounts, savings accounts, and other types of bank accounts). Bank money, whose value exists on the books of financial institutions and can be converted into physical notes or used for cashless payment, forms by far the largest part of broad money in developed countries.\n"
     ]
    },
    {
     "data": {
      "text/markdown": [
       "Money is any item or verifiable record that is generally accepted as payment for goods and services and repayment of debts, such as taxes, in a particular country or socio-economic context. The primary functions which distinguish money are: medium of exchange, a unit of account, a store of value and sometimes, a standard of deferred payment.\n",
       "Money was historically an emergent market phenomenon that possessed intrinsic value as a commodity; nearly all contemporary money systems are based on unbacked fiat money without use value. Its value is consequently derived by social convention, having been declared by a government or regulatory entity to be legal tender; that is, it must be accepted as a form of payment within the boundaries of the country, for \"all debts, public and private\", in the case of the United States dollar.\n",
       "The money supply of a country comprises all currency in circulation (banknotes and coins currently issued) and, depending on the particular definition used, one or more types of bank money (the balances held in checking accounts, savings accounts, and other types of bank accounts). Bank money, whose value exists on the books of financial institutions and can be converted into physical notes or used for cashless payment, forms by far the largest part of broad money in developed countries."
      ],
      "text/plain": [
       "<IPython.core.display.Markdown object>"
      ]
     },
     "metadata": {},
     "output_type": "display_data"
    },
    {
     "name": "stdout",
     "output_type": "stream",
     "text": [
      "The average rating you give is 4.0\n"
     ]
    }
   ],
   "source": [
    "#!pip install wikipedia\n",
    "import wikipedia\n",
    "import sqlite3\n",
    "from IPython.display import display, Markdown\n",
    "\n",
    "conn = sqlite3.connect('wikipedia_ratings.db')\n",
    "cursor = conn.cursor()\n",
    "cursor.execute('''\n",
    "CREATE TABLE IF NOT EXISTS ratings\n",
    "             (articleTitle text, rating integer)\n",
    "''')\n",
    "\n",
    "def rate(articleTitle: str, rating: int):\n",
    "    cursor.execute('''\n",
    "INSERT INTO ratings (articleTitle, rating) VALUES (?, ?)\n",
    "''', (articleTitle, rating))\n",
    "    conn.commit()\n",
    "    \n",
    "def getAvgRating():\n",
    "    cursor.execute('''\n",
    "        SELECT AVG(rating) FROM ratings\n",
    "    ''')\n",
    "    avg_rating = cursor.fetchone()[0]\n",
    "    return avg_rating\n",
    "\n",
    "def ynInput(prompt: str) -> bool:\n",
    "    return input(prompt + \" [y/n]\").startswith(\"y\")\n",
    "\n",
    "def rangedInput(prompt: str, minVal: int, maxVal: int) -> int:\n",
    "    inp = input(prompt)\n",
    "    while True:\n",
    "        if inp.isdecimal():\n",
    "            inp = int(inp)\n",
    "            if inp >= minVal and inp <= maxVal:\n",
    "                return inp\n",
    "        inp = input(f\"Invalid input. Please enter a number between {minVal} and {maxVal}.\")\n",
    "\n",
    "try:\n",
    "    while True:\n",
    "        user_inp = input(\"What wikipedia page would you like to open?\")\n",
    "        if user_inp.strip() == \"\":\n",
    "            raise KeyboardInterrupt()\n",
    "        # Search for a page \n",
    "        results = wikipedia.search(user_inp)\n",
    "        if len(results) == 0:\n",
    "            print(\"No such article was found.\")\n",
    "            continue\n",
    "        # Get the summary of the first result\n",
    "        summary = wikipedia.summary(results[0])\n",
    "        print(\"Here is a summary of the article:\")\n",
    "        print(summary)\n",
    "        read_full_article = ynInput(\"Would you like to read the full article?\")\n",
    "        if read_full_article:\n",
    "            display(Markdown(summary))\n",
    "            rating = rangedInput(\"Please rate this article w/ a number from 1-5 (don't do a sql injection please)\", 1, 5)\n",
    "            rate(user_inp, rating)\n",
    "except KeyboardInterrupt:\n",
    "    print(f\"The average rating you give is {getAvgRating()}\")\n",
    "    conn.close()\n"
   ]
  }
 ],
 "metadata": {
  "kernelspec": {
   "display_name": "base",
   "language": "python",
   "name": "python3"
  },
  "language_info": {
   "codemirror_mode": {
    "name": "ipython",
    "version": 3
   },
   "file_extension": ".py",
   "mimetype": "text/x-python",
   "name": "python",
   "nbconvert_exporter": "python",
   "pygments_lexer": "ipython3",
   "version": "3.11.9"
  }
 },
 "nbformat": 4,
 "nbformat_minor": 2
}
